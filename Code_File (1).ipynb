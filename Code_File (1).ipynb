{
  "nbformat": 4,
  "nbformat_minor": 0,
  "metadata": {
    "colab": {
      "provenance": []
    },
    "kernelspec": {
      "name": "python3",
      "display_name": "Python 3"
    },
    "language_info": {
      "name": "python"
    }
  },
  "cells": [
    {
      "cell_type": "code",
      "source": [
        "#pip install pulp---Only run this if your system doesn have pulp installed in it."
      ],
      "metadata": {
        "colab": {
          "base_uri": "https://localhost:8080/"
        },
        "id": "6rd3lgoLlbM2",
        "outputId": "061deafd-8716-4a4d-a2e6-50c53b0021fc"
      },
      "execution_count": 4,
      "outputs": [
        {
          "output_type": "stream",
          "name": "stdout",
          "text": [
            "Collecting pulp\n",
            "  Downloading pulp-3.2.1-py3-none-any.whl.metadata (6.9 kB)\n",
            "Downloading pulp-3.2.1-py3-none-any.whl (16.4 MB)\n",
            "\u001b[2K   \u001b[90m━━━━━━━━━━━━━━━━━━━━━━━━━━━━━━━━━━━━━━━━\u001b[0m \u001b[32m16.4/16.4 MB\u001b[0m \u001b[31m82.3 MB/s\u001b[0m eta \u001b[36m0:00:00\u001b[0m\n",
            "\u001b[?25hInstalling collected packages: pulp\n",
            "Successfully installed pulp-3.2.1\n"
          ]
        }
      ]
    },
    {
      "cell_type": "code",
      "source": [
        "#This cell is the inital data loading cell.\n",
        "#Consider running \"pip install pulp\" if pulp is not already installed in your pc\n",
        "import pulp\n",
        "#Confiuring our Resources and Constraints\n",
        "sites = ['S1', 'S2', 'S3']\n",
        "sources = ['Grid', 'Wind', 'Solar']\n",
        "\n",
        "max_cap = {'S1':40, 'S2':30, 'S3':30}\n",
        "con_cost = {'S1':8_000_000, 'S2':6_000_000, 'S3':7_000_000}\n",
        "jobs = {'S1':4, 'S2':12, 'S3':8}\n",
        "dev = {'S1':1.00, 'S2':1.30, 'S3':1.10}\n",
        "\n",
        "max_avail = {'Grid':60, 'Wind':25, 'Solar':15}\n",
        "pwr_cost = {'Grid':80, 'Wind':95, 'Solar':110}\n",
        "co2 = {'Grid':350, 'Wind':15, 'Solar':30}\n",
        "\n",
        "demand = 50\n",
        "hpy = 8760\n",
        "\n",
        "def print_results(label, x_vars, cost, emissions, social):\n",
        "    print(f\"\\n--- {label} Results ---\")\n",
        "    for i in sites:\n",
        "        for s in sources:\n",
        "            val = x_vars[(i,s)].varValue if hasattr(x_vars[(i,s)], 'varValue') else x_vars[(i,s)]\n",
        "            if val > 1e-2:\n",
        "                print(f\"  {i} ({s}): {val:.2f} MW\")\n",
        "    print(f\"Total Cost:        $ {cost:,.0f}\")\n",
        "    print(f\"Total Emissions:   {emissions:,.0f} kg CO₂\")\n",
        "    print(f\"Total Social Ben.: {social:.1f} job-units\")\n"
      ],
      "metadata": {
        "id": "pw-IYANllgqU"
      },
      "execution_count": 5,
      "outputs": []
    },
    {
      "cell_type": "code",
      "source": [
        "#Method 1: Aggregated (Weighted Sum) Method\n",
        "prob = pulp.LpProblem(\"AggWeighted\", pulp.LpMinimize)\n",
        "x = pulp.LpVariable.dicts(\"x\", ((i,s) for i in sites for s in sources), lowBound=0)\n",
        "\n",
        "cost_expr = pulp.lpSum([con_cost[i]*x[(i,s)] + pwr_cost[s]*x[(i,s)]*hpy for i in sites for s in sources])\n",
        "emiss_expr = pulp.lpSum([co2[s]*x[(i,s)]*hpy for i in sites for s in sources])\n",
        "soc_expr = pulp.lpSum([x[(i,s)]*jobs[i]*dev[i] for i in sites for s in sources])\n",
        "\n",
        "cost_norm = cost_expr/1e9\n",
        "emiss_norm = emiss_expr/1e7\n",
        "soc_norm = soc_expr/1000\n",
        "\n",
        "prob += 0.4*cost_norm + 0.4*emiss_norm - 0.2*soc_norm\n",
        "\n",
        "prob += pulp.lpSum([x[(i,s)] for i in sites for s in sources]) == demand\n",
        "for i in sites:\n",
        "    prob += pulp.lpSum([x[(i,s)] for s in sources]) <= max_cap[i]\n",
        "for s in sources:\n",
        "    prob += pulp.lpSum([x[(i,s)] for i in sites]) <= max_avail[s]\n",
        "\n",
        "prob.solve()\n",
        "\n",
        "print_results(\"Aggregated (Weighted Sum)\",\n",
        "    x,\n",
        "    pulp.value(cost_expr),\n",
        "    pulp.value(emiss_expr),\n",
        "    pulp.value(soc_expr)\n",
        ")\n"
      ],
      "metadata": {
        "colab": {
          "base_uri": "https://localhost:8080/"
        },
        "id": "NX4KhQ6PllC4",
        "outputId": "dc9ca21c-9ef0-424b-acec-68c20cb6d1c1"
      },
      "execution_count": 7,
      "outputs": [
        {
          "output_type": "stream",
          "name": "stdout",
          "text": [
            "\n",
            "--- Aggregated (Weighted Sum) Results ---\n",
            "  S2 (Grid): 5.00 MW\n",
            "  S2 (Wind): 25.00 MW\n",
            "  S3 (Grid): 5.00 MW\n",
            "  S3 (Solar): 15.00 MW\n",
            "Total Cost:        $ 362,267,000\n",
            "Total Emissions:   37,887,000 kg CO₂\n",
            "Total Social Ben.: 644.0 job-units\n"
          ]
        }
      ]
    },
    {
      "cell_type": "code",
      "source": [
        "#Method 2: (B) Weighted Min-Max Method\n",
        "ref_cost = 450_000_000\n",
        "ref_emiss = 70_000_000\n",
        "ref_soc = 780\n",
        "\n",
        "dev_var = pulp.LpVariable(\"max_dev\", lowBound=0)\n",
        "prob2 = pulp.LpProblem(\"MinMaxDev\", pulp.LpMinimize)\n",
        "x2 = pulp.LpVariable.dicts(\"x2\", ((i,s) for i in sites for s in sources), lowBound=0)\n",
        "\n",
        "cost2 = pulp.lpSum([con_cost[i]*x2[(i,s)] + pwr_cost[s]*x2[(i,s)]*hpy for i in sites for s in sources])\n",
        "emiss2 = pulp.lpSum([co2[s]*x2[(i,s)]*hpy for i in sites for s in sources])\n",
        "soc2 = pulp.lpSum([x2[(i,s)]*jobs[i]*dev[i] for i in sites for s in sources])\n",
        "\n",
        "dev_cost = (cost2-ref_cost)/ref_cost\n",
        "dev_emiss = (emiss2-ref_emiss)/ref_emiss\n",
        "dev_soc = (ref_soc-soc2)/ref_soc\n",
        "\n",
        "prob2 += dev_var\n",
        "prob2 += dev_cost <= dev_var\n",
        "prob2 += dev_emiss <= dev_var\n",
        "prob2 += dev_soc <= dev_var\n",
        "\n",
        "prob2 += pulp.lpSum([x2[(i,s)] for i in sites for s in sources]) == demand\n",
        "for i in sites:\n",
        "    prob2 += pulp.lpSum([x2[(i,s)] for s in sources]) <= max_cap[i]\n",
        "for s in sources:\n",
        "    prob2 += pulp.lpSum([x2[(i,s)] for i in sites]) <= max_avail[s]\n",
        "\n",
        "prob2.solve()\n",
        "\n",
        "print_results(\"Weighted Min-Max\",\n",
        "    x2,\n",
        "    pulp.value(cost2),\n",
        "    pulp.value(emiss2),\n",
        "    pulp.value(soc2)\n",
        ")\n"
      ],
      "metadata": {
        "colab": {
          "base_uri": "https://localhost:8080/"
        },
        "id": "qbKEREHFlpGA",
        "outputId": "038a4b00-61cc-48fe-84f2-51824030f93f"
      },
      "execution_count": 8,
      "outputs": [
        {
          "output_type": "stream",
          "name": "stdout",
          "text": [
            "\n",
            "--- Weighted Min-Max Results ---\n",
            "  S2 (Grid): 10.00 MW\n",
            "  S2 (Wind): 5.00 MW\n",
            "  S2 (Solar): 15.00 MW\n",
            "  S3 (Wind): 20.00 MW\n",
            "Total Cost:        $ 362,267,000\n",
            "Total Emissions:   37,887,000 kg CO₂\n",
            "Total Social Ben.: 644.0 job-units\n"
          ]
        }
      ]
    },
    {
      "cell_type": "code",
      "source": [
        "#Method 3: 𝜖-Constrained Method\n",
        "emiss_limit = 100_000_000\n",
        "prob3 = pulp.LpProblem(\"EpsilonConstrained\", pulp.LpMinimize)\n",
        "x3 = pulp.LpVariable.dicts(\"x3\", ((i,s) for i in sites for s in sources), lowBound=0)\n",
        "\n",
        "cost3 = pulp.lpSum([con_cost[i]*x3[(i,s)] + pwr_cost[s]*x3[(i,s)]*hpy for i in sites for s in sources])\n",
        "emiss3 = pulp.lpSum([co2[s]*x3[(i,s)]*hpy for i in sites for s in sources])\n",
        "soc3 = pulp.lpSum([x3[(i,s)]*jobs[i]*dev[i] for i in sites for s in sources])\n",
        "\n",
        "prob3 += cost3\n",
        "prob3 += emiss3 <= emiss_limit\n",
        "prob3 += pulp.lpSum([x3[(i,s)] for i in sites for s in sources]) == demand\n",
        "for i in sites:\n",
        "    prob3 += pulp.lpSum([x3[(i,s)] for s in sources]) <= max_cap[i]\n",
        "for s in sources:\n",
        "    prob3 += pulp.lpSum([x3[(i,s)] for i in sites]) <= max_avail[s]\n",
        "\n",
        "prob3.solve()\n",
        "\n",
        "print_results(\"Epsilon-Constrained\",\n",
        "    x3,\n",
        "    pulp.value(cost3),\n",
        "    pulp.value(emiss3),\n",
        "    pulp.value(soc3)\n",
        ")\n"
      ],
      "metadata": {
        "colab": {
          "base_uri": "https://localhost:8080/"
        },
        "id": "TN22OOwblw9E",
        "outputId": "82cb1e44-5f6f-4962-f595-7a0503ed6f98"
      },
      "execution_count": 9,
      "outputs": [
        {
          "output_type": "stream",
          "name": "stdout",
          "text": [
            "\n",
            "--- Epsilon-Constrained Results ---\n",
            "  S2 (Grid): 30.00 MW\n",
            "  S3 (Grid): 1.84 MW\n",
            "  S3 (Wind): 18.16 MW\n",
            "Total Cost:        $ 357,426,570\n",
            "Total Emissions:   100,000,000 kg CO₂\n",
            "Total Social Ben.: 644.0 job-units\n"
          ]
        }
      ]
    },
    {
      "cell_type": "code",
      "source": [
        "#Method 4: Lexicographic Method\n",
        "# Step 1: Minimise Cost\n",
        "prob4a = pulp.LpProblem(\"Lex1\", pulp.LpMinimize)\n",
        "x4a = pulp.LpVariable.dicts(\"x4a\", ((i,s) for i in sites for s in sources), lowBound=0)\n",
        "cost4a = pulp.lpSum([con_cost[i]*x4a[(i,s)] + pwr_cost[s]*x4a[(i,s)]*hpy for i in sites for s in sources])\n",
        "prob4a += cost4a\n",
        "prob4a += pulp.lpSum([x4a[(i,s)] for i in sites for s in sources]) == demand\n",
        "for i in sites:\n",
        "    prob4a += pulp.lpSum([x4a[(i,s)] for s in sources]) <= max_cap[i]\n",
        "for s in sources:\n",
        "    prob4a += pulp.lpSum([x4a[(i,s)] for i in sites]) <= max_avail[s]\n",
        "prob4a.solve()\n",
        "min_cost = pulp.value(cost4a)\n",
        "\n",
        "# Step 2: Minimise Emissions, Cost ≤ 1% above min\n",
        "prob4b = pulp.LpProblem(\"Lex2\", pulp.LpMinimize)\n",
        "x4b = pulp.LpVariable.dicts(\"x4b\", ((i,s) for i in sites for s in sources), lowBound=0)\n",
        "cost4b = pulp.lpSum([con_cost[i]*x4b[(i,s)] + pwr_cost[s]*x4b[(i,s)]*hpy for i in sites for s in sources])\n",
        "emiss4b = pulp.lpSum([co2[s]*x4b[(i,s)]*hpy for i in sites for s in sources])\n",
        "soc4b = pulp.lpSum([x4b[(i,s)]*jobs[i]*dev[i] for i in sites for s in sources])\n",
        "prob4b += emiss4b\n",
        "prob4b += cost4b <= min_cost * 1.01\n",
        "prob4b += pulp.lpSum([x4b[(i,s)] for i in sites for s in sources]) == demand\n",
        "for i in sites:\n",
        "    prob4b += pulp.lpSum([x4b[(i,s)] for s in sources]) <= max_cap[i]\n",
        "for s in sources:\n",
        "    prob4b += pulp.lpSum([x4b[(i,s)] for i in sites]) <= max_avail[s]\n",
        "prob4b.solve()\n",
        "\n",
        "print_results(\"Lexicographic\",\n",
        "    x4b,\n",
        "    pulp.value(cost4b),\n",
        "    pulp.value(emiss4b),\n",
        "    pulp.value(soc4b)\n",
        ")\n"
      ],
      "metadata": {
        "colab": {
          "base_uri": "https://localhost:8080/"
        },
        "id": "nzBnx4UFl1Un",
        "outputId": "2c9c4efa-9cd4-4300-fb12-acffaf13e7ab"
      },
      "execution_count": 10,
      "outputs": [
        {
          "output_type": "stream",
          "name": "stdout",
          "text": [
            "\n",
            "--- Lexicographic Results ---\n",
            "  S2 (Grid): 23.99 MW\n",
            "  S2 (Wind): 6.01 MW\n",
            "  S3 (Wind): 18.99 MW\n",
            "  S3 (Solar): 1.01 MW\n",
            "Total Cost:        $ 358,590,407\n",
            "Total Emissions:   77,104,068 kg CO₂\n",
            "Total Social Ben.: 644.0 job-units\n"
          ]
        }
      ]
    },
    {
      "cell_type": "code",
      "source": [
        "#Method 5: Goal Programming\n",
        "prob5 = pulp.LpProblem(\"GoalProg\", pulp.LpMinimize)\n",
        "x5 = pulp.LpVariable.dicts(\"x5\", ((i,s) for i in sites for s in sources), lowBound=0)\n",
        "cost5 = pulp.lpSum([con_cost[i]*x5[(i,s)] + pwr_cost[s]*x5[(i,s)]*hpy for i in sites for s in sources])\n",
        "emiss5 = pulp.lpSum([co2[s]*x5[(i,s)]*hpy for i in sites for s in sources])\n",
        "soc5 = pulp.lpSum([x5[(i,s)]*jobs[i]*dev[i] for i in sites for s in sources])\n",
        "\n",
        "cost_goal = 560_000_000\n",
        "emiss_goal = 120_000_000\n",
        "soc_goal = 700\n",
        "\n",
        "d_cost_plus = pulp.LpVariable('d_cost_plus', lowBound=0)\n",
        "d_emiss_plus = pulp.LpVariable('d_emiss_plus', lowBound=0)\n",
        "d_soc_minus = pulp.LpVariable('d_soc_minus', lowBound=0)\n",
        "\n",
        "prob5 += d_cost_plus/1e7 + d_emiss_plus/1e6 + d_soc_minus/10\n",
        "\n",
        "prob5 += cost5 - cost_goal <= d_cost_plus\n",
        "prob5 += emiss5 - emiss_goal <= d_emiss_plus\n",
        "prob5 += soc_goal - soc5 <= d_soc_minus\n",
        "\n",
        "prob5 += pulp.lpSum([x5[(i,s)] for i in sites for s in sources]) == demand\n",
        "for i in sites:\n",
        "    prob5 += pulp.lpSum([x5[(i,s)] for s in sources]) <= max_cap[i]\n",
        "for s in sources:\n",
        "    prob5 += pulp.lpSum([x5[(i,s)] for i in sites]) <= max_avail[s]\n",
        "\n",
        "prob5.solve()\n",
        "\n",
        "print_results(\"Goal Programming\",\n",
        "    x5,\n",
        "    pulp.value(cost5),\n",
        "    pulp.value(emiss5),\n",
        "    pulp.value(soc5)\n",
        ")\n"
      ],
      "metadata": {
        "colab": {
          "base_uri": "https://localhost:8080/"
        },
        "id": "XbIyZdHLl54_",
        "outputId": "5791e797-e0f4-437d-d478-d62663331f67"
      },
      "execution_count": 11,
      "outputs": [
        {
          "output_type": "stream",
          "name": "stdout",
          "text": [
            "\n",
            "--- Goal Programming Results ---\n",
            "  S2 (Grid): 30.00 MW\n",
            "  S3 (Grid): 8.65 MW\n",
            "  S3 (Wind): 11.35 MW\n",
            "Total Cost:        $ 356,531,047\n",
            "Total Emissions:   120,000,000 kg CO₂\n",
            "Total Social Ben.: 644.0 job-units\n"
          ]
        }
      ]
    }
  ]
}